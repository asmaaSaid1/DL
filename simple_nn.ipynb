{
 "cells": [
  {
   "cell_type": "code",
   "execution_count": 81,
   "metadata": {},
   "outputs": [],
   "source": [
    "import tensorflow as tf\n",
    "import numpy as np\n",
    "from sklearn.datasets import load_iris\n",
    "\n"
   ]
  },
  {
   "cell_type": "code",
   "execution_count": 82,
   "metadata": {},
   "outputs": [],
   "source": [
    "# Load the Iris dataset\n",
    "iris = load_iris()\n",
    "X = iris.data\n",
    "y = (iris.target == 0).astype(int)  # Setosa vs. non-Setosa\n"
   ]
  },
  {
   "cell_type": "code",
   "execution_count": 83,
   "metadata": {},
   "outputs": [],
   "source": [
    "X = tf.random.uniform((100, 2))\n",
    "y = (X + 5) * 0.3"
   ]
  },
  {
   "cell_type": "code",
   "execution_count": 84,
   "metadata": {},
   "outputs": [
    {
     "data": {
      "text/plain": [
       "(tensorflow.python.framework.ops.EagerTensor,\n",
       " tensorflow.python.framework.ops.EagerTensor)"
      ]
     },
     "execution_count": 84,
     "metadata": {},
     "output_type": "execute_result"
    }
   ],
   "source": [
    "type(X), type(y)"
   ]
  },
  {
   "cell_type": "code",
   "execution_count": 85,
   "metadata": {},
   "outputs": [
    {
     "data": {
      "text/plain": [
       "(TensorShape([100, 2]), TensorShape([100, 2]))"
      ]
     },
     "execution_count": 85,
     "metadata": {},
     "output_type": "execute_result"
    }
   ],
   "source": [
    "X.shape, y.shape"
   ]
  },
  {
   "cell_type": "markdown",
   "metadata": {},
   "source": [
    "# Define a simple Neural Network "
   ]
  },
  {
   "cell_type": "code",
   "execution_count": 86,
   "metadata": {},
   "outputs": [],
   "source": [
    "model =  tf.keras.Sequential([\n",
    "    tf.keras.layers.Input(name=\"InputLayer\", shape=[2]),\n",
    "    tf.keras.layers.Dense(2, name=\"Layer1\"),\n",
    "    #tf.keras.layers.Dense(2, name=\"Layer2\"),\n",
    " ])"
   ]
  },
  {
   "cell_type": "code",
   "execution_count": 87,
   "metadata": {},
   "outputs": [
    {
     "name": "stdout",
     "output_type": "stream",
     "text": [
      "Model: \"sequential_6\"\n",
      "_________________________________________________________________\n",
      " Layer (type)                Output Shape              Param #   \n",
      "=================================================================\n",
      " Layer1 (Dense)              (None, 2)                 6         \n",
      "                                                                 \n",
      "=================================================================\n",
      "Total params: 6 (24.00 Byte)\n",
      "Trainable params: 6 (24.00 Byte)\n",
      "Non-trainable params: 0 (0.00 Byte)\n",
      "_________________________________________________________________\n"
     ]
    }
   ],
   "source": [
    "model.summary()"
   ]
  },
  {
   "cell_type": "code",
   "execution_count": 88,
   "metadata": {},
   "outputs": [
    {
     "data": {
      "text/plain": [
       "[<tf.Variable 'Layer1/kernel:0' shape=(2, 2) dtype=float32, numpy=\n",
       " array([[-1.0160371 ,  0.77473927],\n",
       "        [ 1.0257031 ,  0.24407482]], dtype=float32)>,\n",
       " <tf.Variable 'Layer1/bias:0' shape=(2,) dtype=float32, numpy=array([0., 0.], dtype=float32)>]"
      ]
     },
     "execution_count": 88,
     "metadata": {},
     "output_type": "execute_result"
    }
   ],
   "source": [
    "model.layers[0].weights"
   ]
  },
  {
   "cell_type": "markdown",
   "metadata": {},
   "source": [
    "# Train Neural Network "
   ]
  },
  {
   "cell_type": "code",
   "execution_count": 89,
   "metadata": {},
   "outputs": [],
   "source": [
    "model.compile(loss=\"MSE\", optimizer=\"adam\")"
   ]
  },
  {
   "cell_type": "code",
   "execution_count": 90,
   "metadata": {},
   "outputs": [
    {
     "name": "stdout",
     "output_type": "stream",
     "text": [
      "Epoch 1/100\n",
      "4/4 [==============================] - 3s 6ms/step - loss: 2.1474\n",
      "Epoch 2/100\n",
      "4/4 [==============================] - 0s 7ms/step - loss: 2.1252\n",
      "Epoch 3/100\n",
      "4/4 [==============================] - 0s 7ms/step - loss: 2.1033\n",
      "Epoch 4/100\n",
      "4/4 [==============================] - 0s 21ms/step - loss: 2.0816\n",
      "Epoch 5/100\n",
      "4/4 [==============================] - 0s 9ms/step - loss: 2.0601\n",
      "Epoch 6/100\n",
      "4/4 [==============================] - 0s 5ms/step - loss: 2.0385\n",
      "Epoch 7/100\n",
      "4/4 [==============================] - 0s 16ms/step - loss: 2.0175\n",
      "Epoch 8/100\n",
      "4/4 [==============================] - 0s 5ms/step - loss: 1.9965\n",
      "Epoch 9/100\n",
      "4/4 [==============================] - 0s 7ms/step - loss: 1.9758\n",
      "Epoch 10/100\n",
      "4/4 [==============================] - 0s 6ms/step - loss: 1.9554\n",
      "Epoch 11/100\n",
      "4/4 [==============================] - 0s 17ms/step - loss: 1.9348\n",
      "Epoch 12/100\n",
      "4/4 [==============================] - 0s 12ms/step - loss: 1.9145\n",
      "Epoch 13/100\n",
      "4/4 [==============================] - 0s 13ms/step - loss: 1.8944\n",
      "Epoch 14/100\n",
      "4/4 [==============================] - 0s 14ms/step - loss: 1.8740\n",
      "Epoch 15/100\n",
      "4/4 [==============================] - 0s 5ms/step - loss: 1.8541\n",
      "Epoch 16/100\n",
      "4/4 [==============================] - 0s 11ms/step - loss: 1.8345\n",
      "Epoch 17/100\n",
      "4/4 [==============================] - 0s 5ms/step - loss: 1.8154\n",
      "Epoch 18/100\n",
      "4/4 [==============================] - 0s 8ms/step - loss: 1.7962\n",
      "Epoch 19/100\n",
      "4/4 [==============================] - 0s 5ms/step - loss: 1.7771\n",
      "Epoch 20/100\n",
      "4/4 [==============================] - 0s 8ms/step - loss: 1.7583\n",
      "Epoch 21/100\n",
      "4/4 [==============================] - 0s 10ms/step - loss: 1.7397\n",
      "Epoch 22/100\n",
      "4/4 [==============================] - 0s 5ms/step - loss: 1.7216\n",
      "Epoch 23/100\n",
      "4/4 [==============================] - 0s 15ms/step - loss: 1.7037\n",
      "Epoch 24/100\n",
      "4/4 [==============================] - 0s 11ms/step - loss: 1.6857\n",
      "Epoch 25/100\n",
      "4/4 [==============================] - 0s 13ms/step - loss: 1.6679\n",
      "Epoch 26/100\n",
      "4/4 [==============================] - 0s 16ms/step - loss: 1.6501\n",
      "Epoch 27/100\n",
      "4/4 [==============================] - 0s 11ms/step - loss: 1.6325\n",
      "Epoch 28/100\n",
      "4/4 [==============================] - 0s 20ms/step - loss: 1.6150\n",
      "Epoch 29/100\n",
      "4/4 [==============================] - 0s 8ms/step - loss: 1.5978\n",
      "Epoch 30/100\n",
      "4/4 [==============================] - 0s 5ms/step - loss: 1.5808\n",
      "Epoch 31/100\n",
      "4/4 [==============================] - 0s 12ms/step - loss: 1.5639\n",
      "Epoch 32/100\n",
      "4/4 [==============================] - 0s 6ms/step - loss: 1.5470\n",
      "Epoch 33/100\n",
      "4/4 [==============================] - 0s 9ms/step - loss: 1.5304\n",
      "Epoch 34/100\n",
      "4/4 [==============================] - 0s 8ms/step - loss: 1.5142\n",
      "Epoch 35/100\n",
      "4/4 [==============================] - 0s 14ms/step - loss: 1.4983\n",
      "Epoch 36/100\n",
      "4/4 [==============================] - 0s 13ms/step - loss: 1.4823\n",
      "Epoch 37/100\n",
      "4/4 [==============================] - 0s 5ms/step - loss: 1.4664\n",
      "Epoch 38/100\n",
      "4/4 [==============================] - 0s 8ms/step - loss: 1.4506\n",
      "Epoch 39/100\n",
      "4/4 [==============================] - 0s 6ms/step - loss: 1.4348\n",
      "Epoch 40/100\n",
      "4/4 [==============================] - 0s 5ms/step - loss: 1.4193\n",
      "Epoch 41/100\n",
      "4/4 [==============================] - 0s 15ms/step - loss: 1.4038\n",
      "Epoch 42/100\n",
      "4/4 [==============================] - 0s 6ms/step - loss: 1.3885\n",
      "Epoch 43/100\n",
      "4/4 [==============================] - 0s 10ms/step - loss: 1.3736\n",
      "Epoch 44/100\n",
      "4/4 [==============================] - 0s 11ms/step - loss: 1.3587\n",
      "Epoch 45/100\n",
      "4/4 [==============================] - 0s 7ms/step - loss: 1.3441\n",
      "Epoch 46/100\n",
      "4/4 [==============================] - 0s 19ms/step - loss: 1.3297\n",
      "Epoch 47/100\n",
      "4/4 [==============================] - 0s 7ms/step - loss: 1.3154\n",
      "Epoch 48/100\n",
      "4/4 [==============================] - 0s 14ms/step - loss: 1.3011\n",
      "Epoch 49/100\n",
      "4/4 [==============================] - 0s 5ms/step - loss: 1.2871\n",
      "Epoch 50/100\n",
      "4/4 [==============================] - 0s 24ms/step - loss: 1.2731\n",
      "Epoch 51/100\n",
      "4/4 [==============================] - 0s 9ms/step - loss: 1.2593\n",
      "Epoch 52/100\n",
      "4/4 [==============================] - 0s 7ms/step - loss: 1.2457\n",
      "Epoch 53/100\n",
      "4/4 [==============================] - 0s 15ms/step - loss: 1.2321\n",
      "Epoch 54/100\n",
      "4/4 [==============================] - 0s 7ms/step - loss: 1.2189\n",
      "Epoch 55/100\n",
      "4/4 [==============================] - 0s 10ms/step - loss: 1.2058\n",
      "Epoch 56/100\n",
      "4/4 [==============================] - 0s 10ms/step - loss: 1.1932\n",
      "Epoch 57/100\n",
      "4/4 [==============================] - 0s 19ms/step - loss: 1.1804\n",
      "Epoch 58/100\n",
      "4/4 [==============================] - 0s 18ms/step - loss: 1.1679\n",
      "Epoch 59/100\n",
      "4/4 [==============================] - 0s 5ms/step - loss: 1.1553\n",
      "Epoch 60/100\n",
      "4/4 [==============================] - 0s 16ms/step - loss: 1.1430\n",
      "Epoch 61/100\n",
      "4/4 [==============================] - 0s 7ms/step - loss: 1.1308\n",
      "Epoch 62/100\n",
      "4/4 [==============================] - 0s 5ms/step - loss: 1.1187\n",
      "Epoch 63/100\n",
      "4/4 [==============================] - 0s 7ms/step - loss: 1.1068\n",
      "Epoch 64/100\n",
      "4/4 [==============================] - 0s 10ms/step - loss: 1.0951\n",
      "Epoch 65/100\n",
      "4/4 [==============================] - 0s 13ms/step - loss: 1.0835\n",
      "Epoch 66/100\n",
      "4/4 [==============================] - 0s 7ms/step - loss: 1.0719\n",
      "Epoch 67/100\n",
      "4/4 [==============================] - 0s 9ms/step - loss: 1.0605\n",
      "Epoch 68/100\n",
      "4/4 [==============================] - 0s 6ms/step - loss: 1.0491\n",
      "Epoch 69/100\n",
      "4/4 [==============================] - 0s 5ms/step - loss: 1.0380\n",
      "Epoch 70/100\n",
      "4/4 [==============================] - 0s 5ms/step - loss: 1.0269\n",
      "Epoch 71/100\n",
      "4/4 [==============================] - 0s 6ms/step - loss: 1.0159\n",
      "Epoch 72/100\n",
      "4/4 [==============================] - 0s 6ms/step - loss: 1.0050\n",
      "Epoch 73/100\n",
      "4/4 [==============================] - 0s 11ms/step - loss: 0.9945\n",
      "Epoch 74/100\n",
      "4/4 [==============================] - 0s 10ms/step - loss: 0.9839\n",
      "Epoch 75/100\n",
      "4/4 [==============================] - 0s 6ms/step - loss: 0.9736\n",
      "Epoch 76/100\n",
      "4/4 [==============================] - 0s 6ms/step - loss: 0.9633\n",
      "Epoch 77/100\n",
      "4/4 [==============================] - 0s 5ms/step - loss: 0.9532\n",
      "Epoch 78/100\n",
      "4/4 [==============================] - 0s 8ms/step - loss: 0.9431\n",
      "Epoch 79/100\n",
      "4/4 [==============================] - 0s 13ms/step - loss: 0.9332\n",
      "Epoch 80/100\n",
      "4/4 [==============================] - 0s 6ms/step - loss: 0.9233\n",
      "Epoch 81/100\n",
      "4/4 [==============================] - 0s 11ms/step - loss: 0.9135\n",
      "Epoch 82/100\n",
      "4/4 [==============================] - 0s 5ms/step - loss: 0.9038\n",
      "Epoch 83/100\n",
      "4/4 [==============================] - 0s 17ms/step - loss: 0.8943\n",
      "Epoch 84/100\n",
      "4/4 [==============================] - 0s 5ms/step - loss: 0.8850\n",
      "Epoch 85/100\n",
      "4/4 [==============================] - 0s 10ms/step - loss: 0.8759\n",
      "Epoch 86/100\n",
      "4/4 [==============================] - 0s 6ms/step - loss: 0.8667\n",
      "Epoch 87/100\n",
      "4/4 [==============================] - 0s 8ms/step - loss: 0.8579\n",
      "Epoch 88/100\n",
      "4/4 [==============================] - 0s 6ms/step - loss: 0.8490\n",
      "Epoch 89/100\n",
      "4/4 [==============================] - 0s 7ms/step - loss: 0.8403\n",
      "Epoch 90/100\n",
      "4/4 [==============================] - 0s 7ms/step - loss: 0.8315\n",
      "Epoch 91/100\n",
      "4/4 [==============================] - 0s 8ms/step - loss: 0.8228\n",
      "Epoch 92/100\n",
      "4/4 [==============================] - 0s 18ms/step - loss: 0.8144\n",
      "Epoch 93/100\n",
      "4/4 [==============================] - 0s 5ms/step - loss: 0.8060\n",
      "Epoch 94/100\n",
      "4/4 [==============================] - 0s 13ms/step - loss: 0.7977\n",
      "Epoch 95/100\n",
      "4/4 [==============================] - 0s 5ms/step - loss: 0.7893\n",
      "Epoch 96/100\n",
      "4/4 [==============================] - 0s 5ms/step - loss: 0.7811\n",
      "Epoch 97/100\n",
      "4/4 [==============================] - 0s 5ms/step - loss: 0.7730\n",
      "Epoch 98/100\n",
      "4/4 [==============================] - 0s 15ms/step - loss: 0.7649\n",
      "Epoch 99/100\n",
      "4/4 [==============================] - 0s 7ms/step - loss: 0.7569\n",
      "Epoch 100/100\n",
      "4/4 [==============================] - 0s 6ms/step - loss: 0.7490\n"
     ]
    },
    {
     "data": {
      "text/plain": [
       "<keras.src.callbacks.History at 0x1600d26e560>"
      ]
     },
     "execution_count": 90,
     "metadata": {},
     "output_type": "execute_result"
    }
   ],
   "source": [
    "model.fit(X, y, epochs=100)"
   ]
  },
  {
   "cell_type": "code",
   "execution_count": 91,
   "metadata": {},
   "outputs": [
    {
     "data": {
      "text/plain": [
       "[<tf.Variable 'Layer1/kernel:0' shape=(2, 2) dtype=float32, numpy=\n",
       " array([[-0.6680302 ,  1.0803027 ],\n",
       "        [ 1.3650491 ,  0.56320405]], dtype=float32)>,\n",
       " <tf.Variable 'Layer1/bias:0' shape=(2,) dtype=float32, numpy=array([0.35195565, 0.3297612 ], dtype=float32)>]"
      ]
     },
     "execution_count": 91,
     "metadata": {},
     "output_type": "execute_result"
    }
   ],
   "source": [
    "model.weights"
   ]
  },
  {
   "cell_type": "code",
   "execution_count": 92,
   "metadata": {},
   "outputs": [],
   "source": [
    "l = model.layers[0]"
   ]
  },
  {
   "cell_type": "code",
   "execution_count": 93,
   "metadata": {},
   "outputs": [
    {
     "data": {
      "text/plain": [
       "[<tf.Variable 'Layer1/kernel:0' shape=(2, 2) dtype=float32, numpy=\n",
       " array([[-0.6680302 ,  1.0803027 ],\n",
       "        [ 1.3650491 ,  0.56320405]], dtype=float32)>,\n",
       " <tf.Variable 'Layer1/bias:0' shape=(2,) dtype=float32, numpy=array([0.35195565, 0.3297612 ], dtype=float32)>]"
      ]
     },
     "execution_count": 93,
     "metadata": {},
     "output_type": "execute_result"
    }
   ],
   "source": [
    "l.weights"
   ]
  },
  {
   "cell_type": "code",
   "execution_count": 94,
   "metadata": {},
   "outputs": [
    {
     "data": {
      "text/plain": [
       "<tf.Tensor: shape=(2,), dtype=float32, numpy=array([-8.913502, 23.625427], dtype=float32)>"
      ]
     },
     "execution_count": 94,
     "metadata": {},
     "output_type": "execute_result"
    }
   ],
   "source": [
    "(20.0 * l.weights[0][0]) + (3.0 * l.weights[0][1]) + ( l.weights[1])"
   ]
  },
  {
   "cell_type": "code",
   "execution_count": 95,
   "metadata": {},
   "outputs": [
    {
     "name": "stdout",
     "output_type": "stream",
     "text": [
      "WARNING:tensorflow:5 out of the last 5 calls to <function Model.make_predict_function.<locals>.predict_function at 0x000001600E4880D0> triggered tf.function retracing. Tracing is expensive and the excessive number of tracings could be due to (1) creating @tf.function repeatedly in a loop, (2) passing tensors with different shapes, (3) passing Python objects instead of tensors. For (1), please define your @tf.function outside of the loop. For (2), @tf.function has reduce_retracing=True option that can avoid unnecessary retracing. For (3), please refer to https://www.tensorflow.org/guide/function#controlling_retracing and https://www.tensorflow.org/api_docs/python/tf/function for  more details.\n",
      "1/1 [==============================] - 0s 351ms/step\n"
     ]
    },
    {
     "data": {
      "text/plain": [
       "array([[-8.913502, 23.625427]], dtype=float32)"
      ]
     },
     "execution_count": 95,
     "metadata": {},
     "output_type": "execute_result"
    }
   ],
   "source": [
    "model.predict([[20.0, 3.0]])"
   ]
  },
  {
   "cell_type": "markdown",
   "metadata": {},
   "source": [
    "# Plot the model"
   ]
  },
  {
   "cell_type": "markdown",
   "metadata": {},
   "source": []
  },
  {
   "cell_type": "code",
   "execution_count": 96,
   "metadata": {},
   "outputs": [
    {
     "name": "stdout",
     "output_type": "stream",
     "text": [
      "You must install pydot (`pip install pydot`) and install graphviz (see instructions at https://graphviz.gitlab.io/download/) for plot_model to work.\n"
     ]
    }
   ],
   "source": [
    "tf.keras.utils.plot_model(model)"
   ]
  },
  {
   "cell_type": "code",
   "execution_count": null,
   "metadata": {},
   "outputs": [],
   "source": []
  },
  {
   "cell_type": "code",
   "execution_count": null,
   "metadata": {},
   "outputs": [],
   "source": []
  }
 ],
 "metadata": {
  "kernelspec": {
   "display_name": "Python 3 (ipykernel)",
   "language": "python",
   "name": "python3"
  },
  "language_info": {
   "codemirror_mode": {
    "name": "ipython",
    "version": 3
   },
   "file_extension": ".py",
   "mimetype": "text/x-python",
   "name": "python",
   "nbconvert_exporter": "python",
   "pygments_lexer": "ipython3",
   "version": "3.10.9"
  }
 },
 "nbformat": 4,
 "nbformat_minor": 2
}
